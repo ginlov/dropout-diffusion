{
 "cells": [
  {
   "cell_type": "code",
   "execution_count": 1,
   "metadata": {},
   "outputs": [],
   "source": [
    "import numpy as np"
   ]
  },
  {
   "cell_type": "code",
   "execution_count": 2,
   "metadata": {},
   "outputs": [],
   "source": [
    "from PIL import Image"
   ]
  },
  {
   "cell_type": "code",
   "execution_count": 3,
   "metadata": {},
   "outputs": [],
   "source": [
    "data = np.load(\"../sample_log/samples_10x32x32x3.npz\")"
   ]
  },
  {
   "cell_type": "code",
   "execution_count": 4,
   "metadata": {},
   "outputs": [],
   "source": [
    "for each in data:\n",
    "    data = data[each]\n",
    "    break"
   ]
  },
  {
   "cell_type": "code",
   "execution_count": 5,
   "metadata": {},
   "outputs": [
    {
     "data": {
      "text/plain": [
       "array([[[128, 131, 127],\n",
       "        [127, 130, 129],\n",
       "        [125, 129, 129],\n",
       "        ...,\n",
       "        [125, 132, 129],\n",
       "        [123, 129, 127],\n",
       "        [124, 130, 129]],\n",
       "\n",
       "       [[129, 130, 127],\n",
       "        [129, 130, 127],\n",
       "        [128, 130, 127],\n",
       "        ...,\n",
       "        [124, 128, 125],\n",
       "        [123, 128, 125],\n",
       "        [122, 127, 124]],\n",
       "\n",
       "       [[128, 128, 124],\n",
       "        [127, 128, 125],\n",
       "        [128, 128, 126],\n",
       "        ...,\n",
       "        [124, 128, 126],\n",
       "        [122, 127, 124],\n",
       "        [122, 126, 124]],\n",
       "\n",
       "       ...,\n",
       "\n",
       "       [[126, 126, 123],\n",
       "        [125, 125, 124],\n",
       "        [127, 127, 126],\n",
       "        ...,\n",
       "        [129, 129, 127],\n",
       "        [129, 129, 128],\n",
       "        [126, 127, 125]],\n",
       "\n",
       "       [[125, 124, 124],\n",
       "        [125, 126, 124],\n",
       "        [127, 128, 127],\n",
       "        ...,\n",
       "        [130, 127, 126],\n",
       "        [128, 128, 126],\n",
       "        [127, 127, 126]],\n",
       "\n",
       "       [[126, 127, 126],\n",
       "        [126, 126, 125],\n",
       "        [127, 128, 126],\n",
       "        ...,\n",
       "        [126, 126, 125],\n",
       "        [126, 126, 125],\n",
       "        [130, 129, 130]]], dtype=uint8)"
      ]
     },
     "execution_count": 5,
     "metadata": {},
     "output_type": "execute_result"
    }
   ],
   "source": [
    "data[0]"
   ]
  },
  {
   "cell_type": "code",
   "execution_count": 6,
   "metadata": {},
   "outputs": [
    {
     "data": {
      "image/png": "[encoded data removed]",
      "text/plain": [
       "<PIL.Image.Image image mode=RGB size=32x32>"
      ]
     },
     "execution_count": 6,
     "metadata": {},
     "output_type": "execute_result"
    }
   ],
   "source": [
    "Image.fromarray(data[0])"
   ]
  },
  {
   "cell_type": "code",
   "execution_count": null,
   "metadata": {},
   "outputs": [],
   "source": []
  }
 ],
 "metadata": {
  "kernelspec": {
   "display_name": "Python 3.8.15 ('venv': venv)",
   "language": "python",
   "name": "python3"
  },
  "language_info": {
   "codemirror_mode": {
    "name": "ipython",
    "version": 3
   },
   "file_extension": ".py",
   "mimetype": "text/x-python",
   "name": "python",
   "nbconvert_exporter": "python",
   "pygments_lexer": "ipython3",
   "version": "3.8.15"
  },
  "orig_nbformat": 4,
  "vscode": {
   "interpreter": {
    "hash": "9cbeeb13cc48be21cc129a3ff90aece9e08045e09d8a08d4ae29f36cd087c91f"
   }
  }
 },
 "nbformat": 4,
 "nbformat_minor": 2
}
